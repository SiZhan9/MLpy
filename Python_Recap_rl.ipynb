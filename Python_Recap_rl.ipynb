{
  "nbformat": 4,
  "nbformat_minor": 0,
  "metadata": {
    "colab": {
      "name": "Python_Recap_rl.ipynb",
      "provenance": [],
      "collapsed_sections": [],
      "authorship_tag": "ABX9TyN7Tg+G2SLsGiojesLHUJ+u",
      "include_colab_link": true
    },
    "kernelspec": {
      "name": "python3",
      "display_name": "Python 3"
    },
    "accelerator": "GPU"
  },
  "cells": [
    {
      "cell_type": "markdown",
      "metadata": {
        "id": "view-in-github",
        "colab_type": "text"
      },
      "source": [
        "<a href=\"https://colab.research.google.com/github/SiZhan9/MLpy/blob/master/Python_Recap_rl.ipynb\" target=\"_parent\"><img src=\"https://colab.research.google.com/assets/colab-badge.svg\" alt=\"Open In Colab\"/></a>"
      ]
    },
    {
      "cell_type": "code",
      "metadata": {
        "id": "Q4rsqE7W2FvW",
        "colab_type": "code",
        "colab": {}
      },
      "source": [
        "import numpy as np\n",
        "import matplotlib.pyplot as plt"
      ],
      "execution_count": 0,
      "outputs": []
    },
    {
      "cell_type": "code",
      "metadata": {
        "id": "Y69bucp03TjD",
        "colab_type": "code",
        "outputId": "b874e04a-66f3-435a-e287-12504da91dec",
        "colab": {
          "base_uri": "https://localhost:8080/",
          "height": 35
        }
      },
      "source": [
        "!ls"
      ],
      "execution_count": 0,
      "outputs": [
        {
          "output_type": "stream",
          "text": [
            "sample_data\n"
          ],
          "name": "stdout"
        }
      ]
    },
    {
      "cell_type": "code",
      "metadata": {
        "id": "gtATjiln3pCY",
        "colab_type": "code",
        "outputId": "336180ec-bc26-4cae-c6b5-43dc29b1c7f3",
        "colab": {
          "base_uri": "https://localhost:8080/",
          "height": 35
        }
      },
      "source": [
        "!sys_info"
      ],
      "execution_count": 0,
      "outputs": [
        {
          "output_type": "stream",
          "text": [
            "/bin/bash: sys_info: command not found\n"
          ],
          "name": "stdout"
        }
      ]
    },
    {
      "cell_type": "code",
      "metadata": {
        "id": "UqI7k7hS3uhG",
        "colab_type": "code",
        "colab": {}
      },
      "source": [
        "theta = np.random.randn(4) / 2"
      ],
      "execution_count": 0,
      "outputs": []
    },
    {
      "cell_type": "code",
      "metadata": {
        "id": "h3_mu2UQ34HH",
        "colab_type": "code",
        "outputId": "d445a26e-9246-4caa-eeb9-34ba5c90b233",
        "colab": {
          "base_uri": "https://localhost:8080/",
          "height": 35
        }
      },
      "source": [
        "print(theta)"
      ],
      "execution_count": 0,
      "outputs": [
        {
          "output_type": "stream",
          "text": [
            "[ 0.13952406 -0.50760622  0.21429949 -1.01514032]\n"
          ],
          "name": "stdout"
        }
      ]
    },
    {
      "cell_type": "code",
      "metadata": {
        "id": "5jwrVCJw4EGO",
        "colab_type": "code",
        "outputId": "54d3d766-d174-4afc-ea9b-4979a9ed5601",
        "colab": {
          "base_uri": "https://localhost:8080/",
          "height": 69
        }
      },
      "source": [
        "print(np.random.randn(3,2))"
      ],
      "execution_count": 0,
      "outputs": [
        {
          "output_type": "stream",
          "text": [
            "[[ 0.13368806 -0.69348932]\n",
            " [-1.45259734  0.56274516]\n",
            " [ 0.75527477 -0.55609612]]\n"
          ],
          "name": "stdout"
        }
      ]
    },
    {
      "cell_type": "code",
      "metadata": {
        "id": "B3aFdt_K4R8H",
        "colab_type": "code",
        "outputId": "1bfc79e5-202c-4a80-e072-da20d4b44aa5",
        "colab": {
          "base_uri": "https://localhost:8080/",
          "height": 121
        }
      },
      "source": [
        "V_array = []\n",
        "for k in range(1000):\n",
        "  Var1 = np.random.randn(5,5)\n",
        "  V_array.append(Var1)\n",
        "V_mean = np.mean(V_array)\n",
        "print(V_array[800])\n",
        "print(V_mean)"
      ],
      "execution_count": 0,
      "outputs": [
        {
          "output_type": "stream",
          "text": [
            "[[ 0.85380655  1.38139126  1.81542242  1.72888751 -1.35796309]\n",
            " [-0.44815787  0.28824341  0.73016737 -1.87574972  0.13735192]\n",
            " [-0.79902888 -1.89316586 -0.61002967  1.84679581 -0.68475819]\n",
            " [ 0.03799826 -0.97137448  0.28751185  1.56277496  0.3068576 ]\n",
            " [-0.14197306 -0.69399399 -0.96067819  0.53853231  0.00347534]]\n",
            "-0.011208242162441009\n"
          ],
          "name": "stdout"
        }
      ]
    },
    {
      "cell_type": "code",
      "metadata": {
        "id": "UPHNDgG75T5N",
        "colab_type": "code",
        "outputId": "1e287804-8839-49de-8681-9acc7cdeed9a",
        "colab": {
          "base_uri": "https://localhost:8080/",
          "height": 1000
        }
      },
      "source": [
        "!help set"
      ],
      "execution_count": 0,
      "outputs": [
        {
          "output_type": "stream",
          "text": [
            "set: set [-abefhkmnptuvxBCHP] [-o option-name] [--] [arg ...]\n",
            "    Set or unset values of shell options and positional parameters.\n",
            "    \n",
            "    Change the value of shell attributes and positional parameters, or\n",
            "    display the names and values of shell variables.\n",
            "    \n",
            "    Options:\n",
            "      -a  Mark variables which are modified or created for export.\n",
            "      -b  Notify of job termination immediately.\n",
            "      -e  Exit immediately if a command exits with a non-zero status.\n",
            "      -f  Disable file name generation (globbing).\n",
            "      -h  Remember the location of commands as they are looked up.\n",
            "      -k  All assignment arguments are placed in the environment for a\n",
            "          command, not just those that precede the command name.\n",
            "      -m  Job control is enabled.\n",
            "      -n  Read commands but do not execute them.\n",
            "      -o option-name\n",
            "          Set the variable corresponding to option-name:\n",
            "              allexport    same as -a\n",
            "              braceexpand  same as -B\n",
            "              emacs        use an emacs-style line editing interface\n",
            "              errexit      same as -e\n",
            "              errtrace     same as -E\n",
            "              functrace    same as -T\n",
            "              hashall      same as -h\n",
            "              histexpand   same as -H\n",
            "              history      enable command history\n",
            "              ignoreeof    the shell will not exit upon reading EOF\n",
            "              interactive-comments\n",
            "                           allow comments to appear in interactive commands\n",
            "              keyword      same as -k\n",
            "              monitor      same as -m\n",
            "              noclobber    same as -C\n",
            "              noexec       same as -n\n",
            "              noglob       same as -f\n",
            "              nolog        currently accepted but ignored\n",
            "              notify       same as -b\n",
            "              nounset      same as -u\n",
            "              onecmd       same as -t\n",
            "              physical     same as -P\n",
            "              pipefail     the return value of a pipeline is the status of\n",
            "                           the last command to exit with a non-zero status,\n",
            "                           or zero if no command exited with a non-zero status\n",
            "              posix        change the behavior of bash where the default\n",
            "                           operation differs from the Posix standard to\n",
            "                           match the standard\n",
            "              privileged   same as -p\n",
            "              verbose      same as -v\n",
            "              vi           use a vi-style line editing interface\n",
            "              xtrace       same as -x\n",
            "      -p  Turned on whenever the real and effective user ids do not match.\n",
            "          Disables processing of the $ENV file and importing of shell\n",
            "          functions.  Turning this option off causes the effective uid and\n",
            "          gid to be set to the real uid and gid.\n",
            "      -t  Exit after reading and executing one command.\n",
            "      -u  Treat unset variables as an error when substituting.\n",
            "      -v  Print shell input lines as they are read.\n",
            "      -x  Print commands and their arguments as they are executed.\n",
            "      -B  the shell will perform brace expansion\n",
            "      -C  If set, disallow existing regular files to be overwritten\n",
            "          by redirection of output.\n",
            "      -E  If set, the ERR trap is inherited by shell functions.\n",
            "      -H  Enable ! style history substitution.  This flag is on\n",
            "          by default when the shell is interactive.\n",
            "      -P  If set, do not resolve symbolic links when executing commands\n",
            "          such as cd which change the current directory.\n",
            "      -T  If set, the DEBUG and RETURN traps are inherited by shell functions.\n",
            "      --  Assign any remaining arguments to the positional parameters.\n",
            "          If there are no remaining arguments, the positional parameters\n",
            "          are unset.\n",
            "      -   Assign any remaining arguments to the positional parameters.\n",
            "          The -x and -v options are turned off.\n",
            "    \n",
            "    Using + rather than - causes these flags to be turned off.  The\n",
            "    flags can also be used upon invocation of the shell.  The current\n",
            "    set of flags may be found in $-.  The remaining n ARGs are positional\n",
            "    parameters and are assigned, in order, to $1, $2, .. $n.  If no\n",
            "    ARGs are given, all shell variables are printed.\n",
            "    \n",
            "    Exit Status:\n",
            "    Returns success unless an invalid option is given.\n"
          ],
          "name": "stdout"
        }
      ]
    },
    {
      "cell_type": "code",
      "metadata": {
        "id": "OEeZifvN63NI",
        "colab_type": "code",
        "colab": {}
      },
      "source": [
        "import gym"
      ],
      "execution_count": 0,
      "outputs": []
    },
    {
      "cell_type": "code",
      "metadata": {
        "id": "p_TBl9jUx_wl",
        "colab_type": "code",
        "outputId": "98b4136a-f74e-486a-8fef-11433e127422",
        "colab": {
          "base_uri": "https://localhost:8080/",
          "height": 52
        }
      },
      "source": [
        "env = gym.make('CartPole-v0')"
      ],
      "execution_count": 0,
      "outputs": [
        {
          "output_type": "stream",
          "text": [
            "/usr/local/lib/python3.6/dist-packages/gym/logger.py:30: UserWarning: \u001b[33mWARN: Box bound precision lowered by casting to float32\u001b[0m\n",
            "  warnings.warn(colorize('%s: %s'%('WARN', msg % args), 'yellow'))\n"
          ],
          "name": "stderr"
        }
      ]
    },
    {
      "cell_type": "code",
      "metadata": {
        "id": "cKbLewrwyLkt",
        "colab_type": "code",
        "outputId": "3af2b01e-3723-4d6e-b785-e9031f5cb227",
        "colab": {
          "base_uri": "https://localhost:8080/",
          "height": 35
        }
      },
      "source": [
        "env.reset()"
      ],
      "execution_count": 0,
      "outputs": [
        {
          "output_type": "execute_result",
          "data": {
            "text/plain": [
              "array([ 0.00643725, -0.00718729,  0.03944185,  0.04808632])"
            ]
          },
          "metadata": {
            "tags": []
          },
          "execution_count": 3
        }
      ]
    },
    {
      "cell_type": "code",
      "metadata": {
        "id": "6iDrxoibyQXF",
        "colab_type": "code",
        "colab": {}
      },
      "source": [
        "box = env.observation_space"
      ],
      "execution_count": 0,
      "outputs": []
    },
    {
      "cell_type": "code",
      "metadata": {
        "id": "ssXa-aGrymAD",
        "colab_type": "code",
        "outputId": "6c5ed67a-0b2a-423d-f565-52f64bb5972f",
        "colab": {
          "base_uri": "https://localhost:8080/",
          "height": 35
        }
      },
      "source": [
        "box"
      ],
      "execution_count": 0,
      "outputs": [
        {
          "output_type": "execute_result",
          "data": {
            "text/plain": [
              "Box(4,)"
            ]
          },
          "metadata": {
            "tags": []
          },
          "execution_count": 7
        }
      ]
    },
    {
      "cell_type": "code",
      "metadata": {
        "id": "ptCDKgq6ytCy",
        "colab_type": "code",
        "outputId": "765f0550-c8b9-414d-b52e-1c55fd3513cf",
        "colab": {
          "base_uri": "https://localhost:8080/",
          "height": 166
        }
      },
      "source": [
        "    "
      ],
      "execution_count": 0,
      "outputs": [
        {
          "output_type": "error",
          "ename": "NameError",
          "evalue": "ignored",
          "traceback": [
            "\u001b[0;31m---------------------------------------------------------------------------\u001b[0m",
            "\u001b[0;31mNameError\u001b[0m                                 Traceback (most recent call last)",
            "\u001b[0;32m<ipython-input-8-2c850b0fdd35>\u001b[0m in \u001b[0;36m<module>\u001b[0;34m()\u001b[0m\n\u001b[0;32m----> 1\u001b[0;31m \u001b[0mbox\u001b[0m\u001b[0;34m,\u001b[0m\u001b[0mcontains\u001b[0m\u001b[0;34m\u001b[0m\u001b[0;34m\u001b[0m\u001b[0m\n\u001b[0m",
            "\u001b[0;31mNameError\u001b[0m: name 'contains' is not defined"
          ]
        }
      ]
    },
    {
      "cell_type": "code",
      "metadata": {
        "id": "mZ12BiyzyuM2",
        "colab_type": "code",
        "colab": {}
      },
      "source": [
        ""
      ],
      "execution_count": 0,
      "outputs": []
    }
  ]
}